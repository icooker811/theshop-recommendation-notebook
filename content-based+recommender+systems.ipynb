{
 "cells": [
  {
   "cell_type": "markdown",
   "metadata": {
    "collapsed": true
   },
   "source": [
    "# Fipkart-products Recommendation Systems\n",
    "## Content-Based Recommender Systems\n",
    "## NearestNeighbors (TOP-3)"
   ]
  },
  {
   "cell_type": "code",
   "execution_count": null,
   "metadata": {},
   "outputs": [],
   "source": [
    "import numpy as np\n",
    "import pandas as pd\n",
    "import sklearn\n",
    "%matplotlib inline\n",
    "\n",
    "from sklearn.feature_extraction.text import CountVectorizer\n",
    "from sklearn.feature_extraction.text import TfidfTransformer\n",
    "\n",
    "products = pd.read_csv('data/flipkart_com-ecommerce_sample.csv')\n",
    "products = products[['uniq_id', 'description', 'discounted_price']].dropna()\n",
    "\n",
    "\n",
    "target = products.iloc[:,0].values"
   ]
  },
  {
   "cell_type": "code",
   "execution_count": null,
   "metadata": {},
   "outputs": [],
   "source": [
    "products['discounted_price'].hist(bins=4, range=[0, 20000])"
   ]
  },
  {
   "cell_type": "code",
   "execution_count": null,
   "metadata": {},
   "outputs": [],
   "source": [
    "count_vector = CountVectorizer()\n",
    "count_array = count_vector.fit_transform(products['description'])\n",
    "\n",
    "tfidf        = TfidfTransformer()\n",
    "tfidf_vector = tfidf.fit_transform(count_array)\n",
    "tfitf_array  = tfidf_vector.toarray()\n",
    "\n",
    "from sklearn import preprocessing\n",
    "scaler = preprocessing.Normalizer().fit(products['discounted_price'])\n",
    "new_retail_price = scaler.transform(products['discounted_price'])\n",
    "\n",
    "new_feature = np.concatenate([tfitf_array, np.reshape(new_retail_price, [-1, 1])], axis=1)"
   ]
  },
  {
   "cell_type": "code",
   "execution_count": null,
   "metadata": {},
   "outputs": [],
   "source": [
    "new_feature.shape"
   ]
  },
  {
   "cell_type": "code",
   "execution_count": null,
   "metadata": {},
   "outputs": [],
   "source": [
    "from sklearn.neighbors import NearestNeighbors\n",
    "neigh = NearestNeighbors(n_neighbors=3)\n",
    "neigh.fit(new_feature) "
   ]
  },
  {
   "cell_type": "markdown",
   "metadata": {
    "collapsed": true
   },
   "source": [
    "## Save file"
   ]
  },
  {
   "cell_type": "code",
   "execution_count": null,
   "metadata": {
    "collapsed": true
   },
   "outputs": [],
   "source": [
    "#import pickle\n",
    "#pickle.dump(count_vector, open('data/count_vector.p', 'wb'))\n",
    "#pickle.dump(tfidf, open('data/tfidf.p', 'wb'))\n",
    "#pickle.dump(scaler, open('data/scaler.p', 'wb'))"
   ]
  },
  {
   "cell_type": "code",
   "execution_count": null,
   "metadata": {
    "collapsed": true
   },
   "outputs": [],
   "source": [
    "#from sklearn.externals import joblib\n",
    "#joblib.dump(neigh, 'data/current_model.pkl')"
   ]
  },
  {
   "cell_type": "markdown",
   "metadata": {
    "collapsed": true
   },
   "source": [
    "## Predict with keyword + price"
   ]
  },
  {
   "cell_type": "code",
   "execution_count": null,
   "metadata": {},
   "outputs": [],
   "source": [
    "keyword = 'Black shirt'\n",
    "price = 500.0"
   ]
  },
  {
   "cell_type": "code",
   "execution_count": null,
   "metadata": {},
   "outputs": [],
   "source": [
    "p_count_array = count_vector.transform([keyword])\n",
    "p_tfidf_vector = tfidf.transform(p_count_array)\n",
    "p_tfitf_array  = p_tfidf_vector.toarray()\n",
    "\n",
    "p_new_price = scaler.transform([price])\n",
    "p_new_feature = np.concatenate([p_tfitf_array, np.reshape([p_new_price], [-1, 1])], axis=1)"
   ]
  },
  {
   "cell_type": "code",
   "execution_count": null,
   "metadata": {
    "collapsed": true
   },
   "outputs": [],
   "source": [
    "p_data = scaler.transform(p_new_feature) "
   ]
  },
  {
   "cell_type": "code",
   "execution_count": null,
   "metadata": {},
   "outputs": [],
   "source": [
    "distance, best_n = neigh.kneighbors(p_data, return_distance=True) \n",
    "distance"
   ]
  },
  {
   "cell_type": "code",
   "execution_count": null,
   "metadata": {},
   "outputs": [],
   "source": [
    "best_target = []\n",
    "for n in best_n:\n",
    "    best_target.append(target[n])\n",
    "\n",
    "best_target = list(best_target)\n",
    "best_target"
   ]
  },
  {
   "cell_type": "code",
   "execution_count": null,
   "metadata": {},
   "outputs": [],
   "source": [
    "products[products['uniq_id'] == best_target[0][0]]"
   ]
  },
  {
   "cell_type": "code",
   "execution_count": null,
   "metadata": {},
   "outputs": [],
   "source": [
    "products[products['uniq_id'] == best_target[0][1]]"
   ]
  },
  {
   "cell_type": "code",
   "execution_count": null,
   "metadata": {},
   "outputs": [],
   "source": [
    "products[products['uniq_id'] == best_target[0][2]]"
   ]
  },
  {
   "cell_type": "markdown",
   "metadata": {
    "collapsed": true
   },
   "source": [
    "## Test split"
   ]
  },
  {
   "cell_type": "code",
   "execution_count": null,
   "metadata": {},
   "outputs": [],
   "source": [
    "from sklearn.model_selection import KFold\n",
    "kf = KFold(n_splits=2)\n",
    "kf.get_n_splits(new_feature)\n",
    "\n",
    "for train_index, test_index in kf.split(new_feature):\n",
    "    X_train, X_test = new_feature[train_index], new_feature[test_index]\n",
    "    y_train, y_test = target[train_index], target[test_index]\n",
    "    \n",
    "X_test = X_test[:1000]\n",
    "y_test = y_test[:1000]"
   ]
  },
  {
   "cell_type": "code",
   "execution_count": null,
   "metadata": {},
   "outputs": [],
   "source": [
    "idx = 0\n",
    "accuracy  = 0\n",
    "for testX in X_test:\n",
    "    distance, best_n = neigh.kneighbors(testX, return_distance=True) \n",
    "    checked = y_test[idx] in [target[best_n[0][0]], target[best_n[0][1]], target[best_n[0][2]]]\n",
    "    accuracy += 1 if checked else 0\n",
    "    idx += 1"
   ]
  },
  {
   "cell_type": "code",
   "execution_count": null,
   "metadata": {},
   "outputs": [],
   "source": [
    "print('accuracy=%s' % (accuracy*100/len(X_test)))"
   ]
  }
 ],
 "metadata": {
  "kernelspec": {
   "display_name": "Python 3",
   "language": "python",
   "name": "python3"
  },
  "language_info": {
   "codemirror_mode": {
    "name": "ipython",
    "version": 3
   },
   "file_extension": ".py",
   "mimetype": "text/x-python",
   "name": "python",
   "nbconvert_exporter": "python",
   "pygments_lexer": "ipython3",
   "version": "3.6.1"
  }
 },
 "nbformat": 4,
 "nbformat_minor": 1
}
