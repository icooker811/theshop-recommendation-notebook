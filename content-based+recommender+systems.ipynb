{
 "cells": [
  {
   "cell_type": "markdown",
   "metadata": {
    "collapsed": true
   },
   "source": [
    "# Fipkart-products Recommendation Systems\n",
    "## Content-Based Recommender Systems"
   ]
  },
  {
   "cell_type": "code",
   "execution_count": 1,
   "metadata": {},
   "outputs": [
    {
     "name": "stderr",
     "output_type": "stream",
     "text": [
      "/Users/tuck/anaconda/lib/python3.6/site-packages/numpy/core/fromnumeric.py:57: FutureWarning: reshape is deprecated and will raise in a subsequent release. Please use .values.reshape(...) instead\n",
      "  return getattr(obj, method)(*args, **kwds)\n"
     ]
    }
   ],
   "source": [
    "import numpy as np\n",
    "import pandas as pd\n",
    "import sklearn\n",
    "\n",
    "from sklearn.feature_extraction.text import CountVectorizer\n",
    "from sklearn.feature_extraction.text import TfidfTransformer\n",
    "\n",
    "products = pd.read_csv('data/flipkart_com-ecommerce_sample.csv')[:100]\n",
    "products = products[['uniq_id', 'description', 'retail_price']].dropna()\n",
    "\n",
    "\n",
    "target = products.iloc[:,0].values\n",
    "\n",
    "count_vector = CountVectorizer()\n",
    "count_array = count_vector.fit_transform(products['description'])\n",
    "\n",
    "tfidf        = TfidfTransformer()\n",
    "tfidf_vector = tfidf.fit_transform(count_array)\n",
    "tfitf_array  = tfidf_vector.toarray()\n",
    "\n",
    "new_feature = np.concatenate([tfitf_array, np.reshape(products['retail_price'], [-1, 1])], axis=1)"
   ]
  },
  {
   "cell_type": "code",
   "execution_count": 2,
   "metadata": {},
   "outputs": [
    {
     "name": "stderr",
     "output_type": "stream",
     "text": [
      "/Users/tuck/anaconda/lib/python3.6/site-packages/numpy/core/fromnumeric.py:57: FutureWarning: reshape is deprecated and will raise in a subsequent release. Please use .values.reshape(...) instead\n",
      "  return getattr(obj, method)(*args, **kwds)\n"
     ]
    },
    {
     "data": {
      "text/plain": [
       "array([[   999.],\n",
       "       [ 32157.],\n",
       "       [   999.],\n",
       "       [   699.],\n",
       "       [   220.],\n",
       "       [   430.],\n",
       "       [  1199.],\n",
       "       [ 32157.],\n",
       "       [   699.],\n",
       "       [  1199.],\n",
       "       [  1724.],\n",
       "       [  2299.],\n",
       "       [   999.],\n",
       "       [   699.],\n",
       "       [   999.],\n",
       "       [ 32157.],\n",
       "       [   899.],\n",
       "       [  2499.],\n",
       "       [ 32157.],\n",
       "       [   110.],\n",
       "       [  2400.],\n",
       "       [  1500.],\n",
       "       [   190.],\n",
       "       [  1299.],\n",
       "       [  3199.],\n",
       "       [   499.],\n",
       "       [   699.],\n",
       "       [  2199.],\n",
       "       [   799.],\n",
       "       [   999.],\n",
       "       [   499.],\n",
       "       [   499.],\n",
       "       [  1000.],\n",
       "       [  1200.],\n",
       "       [   350.],\n",
       "       [   899.],\n",
       "       [   999.],\n",
       "       [   899.],\n",
       "       [  1999.],\n",
       "       [  1499.],\n",
       "       [  6999.],\n",
       "       [  2299.],\n",
       "       [   999.],\n",
       "       [   899.],\n",
       "       [  2099.],\n",
       "       [  6500.],\n",
       "       [  9990.],\n",
       "       [  1399.],\n",
       "       [   899.],\n",
       "       [  1299.],\n",
       "       [  8999.],\n",
       "       [   899.],\n",
       "       [ 10000.],\n",
       "       [   899.],\n",
       "       [   899.],\n",
       "       [  1399.],\n",
       "       [  1399.],\n",
       "       [  1399.],\n",
       "       [   999.],\n",
       "       [  1649.],\n",
       "       [  1399.],\n",
       "       [   899.],\n",
       "       [   899.],\n",
       "       [  1849.],\n",
       "       [   999.],\n",
       "       [   440.],\n",
       "       [  1495.],\n",
       "       [   280.],\n",
       "       [   795.],\n",
       "       [  1899.],\n",
       "       [  1990.],\n",
       "       [   250.],\n",
       "       [   600.],\n",
       "       [   440.],\n",
       "       [  2699.],\n",
       "       [  1999.],\n",
       "       [  1499.],\n",
       "       [  2599.],\n",
       "       [   900.],\n",
       "       [  2599.],\n",
       "       [   999.],\n",
       "       [  1600.],\n",
       "       [  1025.],\n",
       "       [   750.],\n",
       "       [  1299.],\n",
       "       [ 18995.],\n",
       "       [  4995.],\n",
       "       [ 13699.],\n",
       "       [  3495.],\n",
       "       [ 24400.],\n",
       "       [  1095.],\n",
       "       [  1099.],\n",
       "       [  5398.],\n",
       "       [  2499.],\n",
       "       [  3999.],\n",
       "       [  1799.],\n",
       "       [  1415.]])"
      ]
     },
     "execution_count": 2,
     "metadata": {},
     "output_type": "execute_result"
    }
   ],
   "source": [
    "np.reshape(products['retail_price'], [-1, 1])"
   ]
  },
  {
   "cell_type": "code",
   "execution_count": 3,
   "metadata": {},
   "outputs": [
    {
     "data": {
      "text/plain": [
       "array([[     0.,      0.,      0., ...,      0.,      0.,    999.],\n",
       "       [     0.,      0.,      0., ...,      0.,      0.,  32157.],\n",
       "       [     0.,      0.,      0., ...,      0.,      0.,    999.],\n",
       "       ..., \n",
       "       [     0.,      0.,      0., ...,      0.,      0.,   3999.],\n",
       "       [     0.,      0.,      0., ...,      0.,      0.,   1799.],\n",
       "       [     0.,      0.,      0., ...,      0.,      0.,   1415.]])"
      ]
     },
     "execution_count": 3,
     "metadata": {},
     "output_type": "execute_result"
    }
   ],
   "source": [
    "new_feature"
   ]
  },
  {
   "cell_type": "code",
   "execution_count": 20,
   "metadata": {},
   "outputs": [
    {
     "data": {
      "text/plain": [
       "SGDClassifier(alpha=0.001, average=False, class_weight=None, epsilon=0.1,\n",
       "       eta0=0.0, fit_intercept=True, l1_ratio=0.15,\n",
       "       learning_rate='optimal', loss='modified_huber', n_iter=5, n_jobs=1,\n",
       "       penalty='l2', power_t=0.5, random_state=42, shuffle=True, verbose=0,\n",
       "       warm_start=False)"
      ]
     },
     "execution_count": 20,
     "metadata": {},
     "output_type": "execute_result"
    }
   ],
   "source": [
    "from sklearn.linear_model import SGDClassifier\n",
    "clf = SGDClassifier(loss='modified_huber', penalty='l2', alpha=1e-3, n_iter=5, random_state=42)\n",
    "clf.fit(new_feature, target)"
   ]
  },
  {
   "cell_type": "markdown",
   "metadata": {
    "collapsed": true
   },
   "source": [
    "## Predict with keyword + price"
   ]
  },
  {
   "cell_type": "code",
   "execution_count": 21,
   "metadata": {},
   "outputs": [],
   "source": [
    "keyword = 'Women\\'s Cycling'\n",
    "price = 1000\n",
    "count_array = count_vector.transform([keyword])\n",
    "p_tfidf_vector = tfidf.transform(count_array)\n",
    "p_tfitf_array  = p_tfidf_vector.toarray()\n",
    "p_new_feature = np.concatenate([p_tfitf_array, np.reshape([price], [-1, 1])], axis=1)"
   ]
  },
  {
   "cell_type": "code",
   "execution_count": 34,
   "metadata": {},
   "outputs": [
    {
     "data": {
      "text/plain": [
       "array([35, 96, 53])"
      ]
     },
     "execution_count": 34,
     "metadata": {},
     "output_type": "execute_result"
    }
   ],
   "source": [
    "probs = clf.predict_proba(p_new_feature)\n",
    "best_n = np.argsort(probs, axis=1)[:1, -3:]"
   ]
  },
  {
   "cell_type": "code",
   "execution_count": 35,
   "metadata": {
    "collapsed": true
   },
   "outputs": [],
   "source": [
    "targets = []\n"
   ]
  },
  {
   "cell_type": "code",
   "execution_count": 36,
   "metadata": {},
   "outputs": [
    {
     "ename": "ValueError",
     "evalue": "Arrays were different lengths: 97 vs 0",
     "output_type": "error",
     "traceback": [
      "\u001b[0;31m---------------------------------------------------------------------------\u001b[0m",
      "\u001b[0;31mValueError\u001b[0m                                Traceback (most recent call last)",
      "\u001b[0;32m<ipython-input-36-995997984515>\u001b[0m in \u001b[0;36m<module>\u001b[0;34m()\u001b[0m\n\u001b[0;32m----> 1\u001b[0;31m \u001b[0mproducts\u001b[0m\u001b[0;34m[\u001b[0m\u001b[0mproducts\u001b[0m\u001b[0;34m[\u001b[0m\u001b[0;34m'uniq_id'\u001b[0m\u001b[0;34m]\u001b[0m \u001b[0;34m==\u001b[0m \u001b[0mtargets\u001b[0m\u001b[0;34m]\u001b[0m\u001b[0;34m\u001b[0m\u001b[0m\n\u001b[0m",
      "\u001b[0;32m/Users/tuck/anaconda/lib/python3.6/site-packages/pandas/core/ops.py\u001b[0m in \u001b[0;36mwrapper\u001b[0;34m(self, other, axis)\u001b[0m\n\u001b[1;32m    859\u001b[0m \u001b[0;34m\u001b[0m\u001b[0m\n\u001b[1;32m    860\u001b[0m             \u001b[0;32mwith\u001b[0m \u001b[0mnp\u001b[0m\u001b[0;34m.\u001b[0m\u001b[0merrstate\u001b[0m\u001b[0;34m(\u001b[0m\u001b[0mall\u001b[0m\u001b[0;34m=\u001b[0m\u001b[0;34m'ignore'\u001b[0m\u001b[0;34m)\u001b[0m\u001b[0;34m:\u001b[0m\u001b[0;34m\u001b[0m\u001b[0m\n\u001b[0;32m--> 861\u001b[0;31m                 \u001b[0mres\u001b[0m \u001b[0;34m=\u001b[0m \u001b[0mna_op\u001b[0m\u001b[0;34m(\u001b[0m\u001b[0mvalues\u001b[0m\u001b[0;34m,\u001b[0m \u001b[0mother\u001b[0m\u001b[0;34m)\u001b[0m\u001b[0;34m\u001b[0m\u001b[0m\n\u001b[0m\u001b[1;32m    862\u001b[0m             \u001b[0;32mif\u001b[0m \u001b[0mis_scalar\u001b[0m\u001b[0;34m(\u001b[0m\u001b[0mres\u001b[0m\u001b[0;34m)\u001b[0m\u001b[0;34m:\u001b[0m\u001b[0;34m\u001b[0m\u001b[0m\n\u001b[1;32m    863\u001b[0m                 raise TypeError('Could not compare %s type with Series' %\n",
      "\u001b[0;32m/Users/tuck/anaconda/lib/python3.6/site-packages/pandas/core/ops.py\u001b[0m in \u001b[0;36mna_op\u001b[0;34m(x, y)\u001b[0m\n\u001b[1;32m    763\u001b[0m \u001b[0;34m\u001b[0m\u001b[0m\n\u001b[1;32m    764\u001b[0m         \u001b[0;32mif\u001b[0m \u001b[0mis_object_dtype\u001b[0m\u001b[0;34m(\u001b[0m\u001b[0mx\u001b[0m\u001b[0;34m.\u001b[0m\u001b[0mdtype\u001b[0m\u001b[0;34m)\u001b[0m\u001b[0;34m:\u001b[0m\u001b[0;34m\u001b[0m\u001b[0m\n\u001b[0;32m--> 765\u001b[0;31m             \u001b[0mresult\u001b[0m \u001b[0;34m=\u001b[0m \u001b[0m_comp_method_OBJECT_ARRAY\u001b[0m\u001b[0;34m(\u001b[0m\u001b[0mop\u001b[0m\u001b[0;34m,\u001b[0m \u001b[0mx\u001b[0m\u001b[0;34m,\u001b[0m \u001b[0my\u001b[0m\u001b[0;34m)\u001b[0m\u001b[0;34m\u001b[0m\u001b[0m\n\u001b[0m\u001b[1;32m    766\u001b[0m         \u001b[0;32melse\u001b[0m\u001b[0;34m:\u001b[0m\u001b[0;34m\u001b[0m\u001b[0m\n\u001b[1;32m    767\u001b[0m \u001b[0;34m\u001b[0m\u001b[0m\n",
      "\u001b[0;32m/Users/tuck/anaconda/lib/python3.6/site-packages/pandas/core/ops.py\u001b[0m in \u001b[0;36m_comp_method_OBJECT_ARRAY\u001b[0;34m(op, x, y)\u001b[0m\n\u001b[1;32m    741\u001b[0m             \u001b[0my\u001b[0m \u001b[0;34m=\u001b[0m \u001b[0my\u001b[0m\u001b[0;34m.\u001b[0m\u001b[0mvalues\u001b[0m\u001b[0;34m\u001b[0m\u001b[0m\n\u001b[1;32m    742\u001b[0m \u001b[0;34m\u001b[0m\u001b[0m\n\u001b[0;32m--> 743\u001b[0;31m         \u001b[0mresult\u001b[0m \u001b[0;34m=\u001b[0m \u001b[0mlib\u001b[0m\u001b[0;34m.\u001b[0m\u001b[0mvec_compare\u001b[0m\u001b[0;34m(\u001b[0m\u001b[0mx\u001b[0m\u001b[0;34m,\u001b[0m \u001b[0my\u001b[0m\u001b[0;34m,\u001b[0m \u001b[0mop\u001b[0m\u001b[0;34m)\u001b[0m\u001b[0;34m\u001b[0m\u001b[0m\n\u001b[0m\u001b[1;32m    744\u001b[0m     \u001b[0;32melse\u001b[0m\u001b[0;34m:\u001b[0m\u001b[0;34m\u001b[0m\u001b[0m\n\u001b[1;32m    745\u001b[0m         \u001b[0mresult\u001b[0m \u001b[0;34m=\u001b[0m \u001b[0mlib\u001b[0m\u001b[0;34m.\u001b[0m\u001b[0mscalar_compare\u001b[0m\u001b[0;34m(\u001b[0m\u001b[0mx\u001b[0m\u001b[0;34m,\u001b[0m \u001b[0my\u001b[0m\u001b[0;34m,\u001b[0m \u001b[0mop\u001b[0m\u001b[0;34m)\u001b[0m\u001b[0;34m\u001b[0m\u001b[0m\n",
      "\u001b[0;32mpandas/_libs/lib.pyx\u001b[0m in \u001b[0;36mpandas._libs.lib.vec_compare (pandas/_libs/lib.c:14284)\u001b[0;34m()\u001b[0m\n",
      "\u001b[0;31mValueError\u001b[0m: Arrays were different lengths: 97 vs 0"
     ]
    }
   ],
   "source": [
    "products[products['uniq_id'] == targets]"
   ]
  },
  {
   "cell_type": "code",
   "execution_count": null,
   "metadata": {
    "collapsed": true
   },
   "outputs": [],
   "source": []
  }
 ],
 "metadata": {
  "kernelspec": {
   "display_name": "Python 3",
   "language": "python",
   "name": "python3"
  },
  "language_info": {
   "codemirror_mode": {
    "name": "ipython",
    "version": 3
   },
   "file_extension": ".py",
   "mimetype": "text/x-python",
   "name": "python",
   "nbconvert_exporter": "python",
   "pygments_lexer": "ipython3",
   "version": "3.6.1"
  }
 },
 "nbformat": 4,
 "nbformat_minor": 1
}
